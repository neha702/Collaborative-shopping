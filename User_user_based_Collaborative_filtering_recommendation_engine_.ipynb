{
  "nbformat": 4,
  "nbformat_minor": 0,
  "metadata": {
    "colab": {
      "name": "User- user based Collaborative filtering recommendation engine .ipynb",
      "provenance": [],
      "authorship_tag": "ABX9TyPEfA1XSpVimNuvf7GgLLLb",
      "include_colab_link": true
    },
    "kernelspec": {
      "name": "python3",
      "display_name": "Python 3"
    },
    "language_info": {
      "name": "python"
    }
  },
  "cells": [
    {
      "cell_type": "markdown",
      "metadata": {
        "id": "view-in-github",
        "colab_type": "text"
      },
      "source": [
        "<a href=\"https://colab.research.google.com/github/neha702/Collaborative-shopping-Team-Achievers-/blob/main/User_user_based_Collaborative_filtering_recommendation_engine_.ipynb\" target=\"_parent\"><img src=\"https://colab.research.google.com/assets/colab-badge.svg\" alt=\"Open In Colab\"/></a>"
      ]
    },
    {
      "cell_type": "markdown",
      "metadata": {
        "id": "EobptmM8vqvq"
      },
      "source": [
        "**User-user based collaborative filtering recommendation system**"
      ]
    },
    {
      "cell_type": "markdown",
      "metadata": {
        "id": "5VvCWPetrwMc"
      },
      "source": [
        "For this challenge,we have prepared a user-user based collaborative filtering recommendation system for shopping that will provide us the top similar users to a particular user and the recommended items to that user other than what he/she has liked which will help in promortion of more and more items that it has not chosen before but may like now."
      ]
    },
    {
      "cell_type": "markdown",
      "metadata": {
        "id": "yMwTI0VPot6t"
      },
      "source": [
        "**Data preprocessing**"
      ]
    },
    {
      "cell_type": "code",
      "metadata": {
        "id": "1ZkRcK0sgTbO"
      },
      "source": [
        "#Importing the libraries\n",
        "import pandas as pd\n",
        "import numpy as np\n",
        "import matplotlib.pyplot as plt"
      ],
      "execution_count": 187,
      "outputs": []
    },
    {
      "cell_type": "code",
      "metadata": {
        "id": "YGeYCKmrT_b3",
        "colab": {
          "base_uri": "https://localhost:8080/",
          "height": 779
        },
        "outputId": "c55a0ebe-6e4a-4cb6-a7f9-911e9803abad"
      },
      "source": [
        "#Data outlook\n",
        "data =pd.read_csv('/content/Project survey (Responses).csv')\n",
        "data.head(15)"
      ],
      "execution_count": 188,
      "outputs": [
        {
          "output_type": "execute_result",
          "data": {
            "text/html": [
              "<div>\n",
              "<style scoped>\n",
              "    .dataframe tbody tr th:only-of-type {\n",
              "        vertical-align: middle;\n",
              "    }\n",
              "\n",
              "    .dataframe tbody tr th {\n",
              "        vertical-align: top;\n",
              "    }\n",
              "\n",
              "    .dataframe thead th {\n",
              "        text-align: right;\n",
              "    }\n",
              "</style>\n",
              "<table border=\"1\" class=\"dataframe\">\n",
              "  <thead>\n",
              "    <tr style=\"text-align: right;\">\n",
              "      <th></th>\n",
              "      <th>Timestamp</th>\n",
              "      <th>Name (with surname)</th>\n",
              "      <th>Gender</th>\n",
              "      <th>For males: [Formal shirts]</th>\n",
              "      <th>For males: [Jackets]</th>\n",
              "      <th>For males: [Casual shirts]</th>\n",
              "      <th>For males: [Jeans]</th>\n",
              "      <th>For females: [Skirts]</th>\n",
              "      <th>For females: [Kurtis]</th>\n",
              "      <th>For females: [Trousers]</th>\n",
              "      <th>For females: [Tops]</th>\n",
              "    </tr>\n",
              "  </thead>\n",
              "  <tbody>\n",
              "    <tr>\n",
              "      <th>0</th>\n",
              "      <td>4/4/2021 15:40:01</td>\n",
              "      <td>Neha Das</td>\n",
              "      <td>Female</td>\n",
              "      <td>NaN</td>\n",
              "      <td>NaN</td>\n",
              "      <td>NaN</td>\n",
              "      <td>NaN</td>\n",
              "      <td>NaN</td>\n",
              "      <td>1.0</td>\n",
              "      <td>NaN</td>\n",
              "      <td>1.0</td>\n",
              "    </tr>\n",
              "    <tr>\n",
              "      <th>1</th>\n",
              "      <td>4/4/2021 15:48:59</td>\n",
              "      <td>Vinayak raj</td>\n",
              "      <td>Male</td>\n",
              "      <td>NaN</td>\n",
              "      <td>1.0</td>\n",
              "      <td>1.0</td>\n",
              "      <td>1.0</td>\n",
              "      <td>NaN</td>\n",
              "      <td>NaN</td>\n",
              "      <td>NaN</td>\n",
              "      <td>NaN</td>\n",
              "    </tr>\n",
              "    <tr>\n",
              "      <th>2</th>\n",
              "      <td>4/4/2021 15:57:04</td>\n",
              "      <td>Prapti parasar</td>\n",
              "      <td>Female</td>\n",
              "      <td>NaN</td>\n",
              "      <td>NaN</td>\n",
              "      <td>NaN</td>\n",
              "      <td>NaN</td>\n",
              "      <td>NaN</td>\n",
              "      <td>NaN</td>\n",
              "      <td>1.0</td>\n",
              "      <td>NaN</td>\n",
              "    </tr>\n",
              "    <tr>\n",
              "      <th>3</th>\n",
              "      <td>4/4/2021 16:10:51</td>\n",
              "      <td>Tarpan Bhattacharya</td>\n",
              "      <td>Male</td>\n",
              "      <td>1.0</td>\n",
              "      <td>NaN</td>\n",
              "      <td>NaN</td>\n",
              "      <td>1.0</td>\n",
              "      <td>NaN</td>\n",
              "      <td>NaN</td>\n",
              "      <td>NaN</td>\n",
              "      <td>NaN</td>\n",
              "    </tr>\n",
              "    <tr>\n",
              "      <th>4</th>\n",
              "      <td>4/4/2021 16:24:48</td>\n",
              "      <td>Ryan</td>\n",
              "      <td>Male</td>\n",
              "      <td>NaN</td>\n",
              "      <td>NaN</td>\n",
              "      <td>1.0</td>\n",
              "      <td>1.0</td>\n",
              "      <td>NaN</td>\n",
              "      <td>NaN</td>\n",
              "      <td>NaN</td>\n",
              "      <td>NaN</td>\n",
              "    </tr>\n",
              "    <tr>\n",
              "      <th>5</th>\n",
              "      <td>4/4/2021 17:00:09</td>\n",
              "      <td>Aritra Mondal</td>\n",
              "      <td>Male</td>\n",
              "      <td>NaN</td>\n",
              "      <td>NaN</td>\n",
              "      <td>1.0</td>\n",
              "      <td>1.0</td>\n",
              "      <td>NaN</td>\n",
              "      <td>NaN</td>\n",
              "      <td>NaN</td>\n",
              "      <td>NaN</td>\n",
              "    </tr>\n",
              "    <tr>\n",
              "      <th>6</th>\n",
              "      <td>4/4/2021 17:14:00</td>\n",
              "      <td>Sparsh Mehta</td>\n",
              "      <td>Male</td>\n",
              "      <td>1.0</td>\n",
              "      <td>1.0</td>\n",
              "      <td>NaN</td>\n",
              "      <td>1.0</td>\n",
              "      <td>NaN</td>\n",
              "      <td>1.0</td>\n",
              "      <td>1.0</td>\n",
              "      <td>1.0</td>\n",
              "    </tr>\n",
              "    <tr>\n",
              "      <th>7</th>\n",
              "      <td>4/4/2021 17:14:13</td>\n",
              "      <td>Rishabh Anand</td>\n",
              "      <td>Male</td>\n",
              "      <td>NaN</td>\n",
              "      <td>NaN</td>\n",
              "      <td>NaN</td>\n",
              "      <td>1.0</td>\n",
              "      <td>NaN</td>\n",
              "      <td>NaN</td>\n",
              "      <td>NaN</td>\n",
              "      <td>NaN</td>\n",
              "    </tr>\n",
              "    <tr>\n",
              "      <th>8</th>\n",
              "      <td>4/4/2021 17:34:19</td>\n",
              "      <td>Tarishi Jain</td>\n",
              "      <td>Female</td>\n",
              "      <td>NaN</td>\n",
              "      <td>NaN</td>\n",
              "      <td>NaN</td>\n",
              "      <td>NaN</td>\n",
              "      <td>NaN</td>\n",
              "      <td>NaN</td>\n",
              "      <td>1.0</td>\n",
              "      <td>1.0</td>\n",
              "    </tr>\n",
              "    <tr>\n",
              "      <th>9</th>\n",
              "      <td>4/4/2021 17:41:48</td>\n",
              "      <td>Prerna Bhendarkar</td>\n",
              "      <td>Female</td>\n",
              "      <td>NaN</td>\n",
              "      <td>NaN</td>\n",
              "      <td>NaN</td>\n",
              "      <td>NaN</td>\n",
              "      <td>1.0</td>\n",
              "      <td>1.0</td>\n",
              "      <td>1.0</td>\n",
              "      <td>1.0</td>\n",
              "    </tr>\n",
              "    <tr>\n",
              "      <th>10</th>\n",
              "      <td>4/4/2021 17:45:03</td>\n",
              "      <td>Sakshat Jain</td>\n",
              "      <td>Male</td>\n",
              "      <td>NaN</td>\n",
              "      <td>NaN</td>\n",
              "      <td>1.0</td>\n",
              "      <td>1.0</td>\n",
              "      <td>NaN</td>\n",
              "      <td>NaN</td>\n",
              "      <td>NaN</td>\n",
              "      <td>NaN</td>\n",
              "    </tr>\n",
              "    <tr>\n",
              "      <th>11</th>\n",
              "      <td>4/4/2021 20:12:46</td>\n",
              "      <td>Nayan Jyoti Bordoloi</td>\n",
              "      <td>Male</td>\n",
              "      <td>1.0</td>\n",
              "      <td>NaN</td>\n",
              "      <td>NaN</td>\n",
              "      <td>NaN</td>\n",
              "      <td>NaN</td>\n",
              "      <td>NaN</td>\n",
              "      <td>NaN</td>\n",
              "      <td>NaN</td>\n",
              "    </tr>\n",
              "    <tr>\n",
              "      <th>12</th>\n",
              "      <td>4/5/2021 8:09:10</td>\n",
              "      <td>Monalisa Nath</td>\n",
              "      <td>Female</td>\n",
              "      <td>NaN</td>\n",
              "      <td>NaN</td>\n",
              "      <td>NaN</td>\n",
              "      <td>NaN</td>\n",
              "      <td>1.0</td>\n",
              "      <td>NaN</td>\n",
              "      <td>1.0</td>\n",
              "      <td>1.0</td>\n",
              "    </tr>\n",
              "    <tr>\n",
              "      <th>13</th>\n",
              "      <td>4/5/2021 8:22:50</td>\n",
              "      <td>Ramchandra Nath</td>\n",
              "      <td>Male</td>\n",
              "      <td>1.0</td>\n",
              "      <td>1.0</td>\n",
              "      <td>NaN</td>\n",
              "      <td>1.0</td>\n",
              "      <td>NaN</td>\n",
              "      <td>NaN</td>\n",
              "      <td>NaN</td>\n",
              "      <td>NaN</td>\n",
              "    </tr>\n",
              "    <tr>\n",
              "      <th>14</th>\n",
              "      <td>4/5/2021 8:23:27</td>\n",
              "      <td>Jugami Brahma</td>\n",
              "      <td>Female</td>\n",
              "      <td>NaN</td>\n",
              "      <td>NaN</td>\n",
              "      <td>1.0</td>\n",
              "      <td>1.0</td>\n",
              "      <td>NaN</td>\n",
              "      <td>1.0</td>\n",
              "      <td>1.0</td>\n",
              "      <td>1.0</td>\n",
              "    </tr>\n",
              "  </tbody>\n",
              "</table>\n",
              "</div>"
            ],
            "text/plain": [
              "            Timestamp  ... For females: [Tops]\n",
              "0   4/4/2021 15:40:01  ...                 1.0\n",
              "1   4/4/2021 15:48:59  ...                 NaN\n",
              "2   4/4/2021 15:57:04  ...                 NaN\n",
              "3   4/4/2021 16:10:51  ...                 NaN\n",
              "4   4/4/2021 16:24:48  ...                 NaN\n",
              "5   4/4/2021 17:00:09  ...                 NaN\n",
              "6   4/4/2021 17:14:00  ...                 1.0\n",
              "7   4/4/2021 17:14:13  ...                 NaN\n",
              "8   4/4/2021 17:34:19  ...                 1.0\n",
              "9   4/4/2021 17:41:48  ...                 1.0\n",
              "10  4/4/2021 17:45:03  ...                 NaN\n",
              "11  4/4/2021 20:12:46  ...                 NaN\n",
              "12   4/5/2021 8:09:10  ...                 1.0\n",
              "13   4/5/2021 8:22:50  ...                 NaN\n",
              "14   4/5/2021 8:23:27  ...                 1.0\n",
              "\n",
              "[15 rows x 11 columns]"
            ]
          },
          "metadata": {
            "tags": []
          },
          "execution_count": 188
        }
      ]
    },
    {
      "cell_type": "code",
      "metadata": {
        "id": "IEP9AMUInNUf"
      },
      "source": [
        "#Timestamp column is of no use to us, so we will drop it\n",
        "data.drop(['Timestamp'],inplace=True,axis=1)"
      ],
      "execution_count": 189,
      "outputs": []
    },
    {
      "cell_type": "code",
      "metadata": {
        "id": "eVwq5fysne6f"
      },
      "source": [
        "#Renaming the columns\n",
        "data.columns=['Users','Gender','Formal Shirts','Jackets','Casual shirts','Jeans','Skirts','Kurtis',\n",
        "               'Trousers','Tops']"
      ],
      "execution_count": 190,
      "outputs": []
    },
    {
      "cell_type": "code",
      "metadata": {
        "colab": {
          "base_uri": "https://localhost:8080/"
        },
        "id": "XzJ6ElJtn6-b",
        "outputId": "504bc13a-4b2d-4148-e791-80af089c642f"
      },
      "source": [
        "#Check for missing data in items columns and fill it with 0.\n",
        "data.isnull().sum()\n",
        "data=data.fillna(0)\n",
        "data.isnull().sum()"
      ],
      "execution_count": 191,
      "outputs": [
        {
          "output_type": "execute_result",
          "data": {
            "text/plain": [
              "Users            0\n",
              "Gender           0\n",
              "Formal Shirts    0\n",
              "Jackets          0\n",
              "Casual shirts    0\n",
              "Jeans            0\n",
              "Skirts           0\n",
              "Kurtis           0\n",
              "Trousers         0\n",
              "Tops             0\n",
              "dtype: int64"
            ]
          },
          "metadata": {
            "tags": []
          },
          "execution_count": 191
        }
      ]
    },
    {
      "cell_type": "code",
      "metadata": {
        "colab": {
          "base_uri": "https://localhost:8080/",
          "height": 494
        },
        "id": "eNfnqLClo_NG",
        "outputId": "26a72bf5-20c2-48a3-aefe-b12f53da781c"
      },
      "source": [
        "#Data overlook after preprocessing\n",
        "data.head(15)"
      ],
      "execution_count": 192,
      "outputs": [
        {
          "output_type": "execute_result",
          "data": {
            "text/html": [
              "<div>\n",
              "<style scoped>\n",
              "    .dataframe tbody tr th:only-of-type {\n",
              "        vertical-align: middle;\n",
              "    }\n",
              "\n",
              "    .dataframe tbody tr th {\n",
              "        vertical-align: top;\n",
              "    }\n",
              "\n",
              "    .dataframe thead th {\n",
              "        text-align: right;\n",
              "    }\n",
              "</style>\n",
              "<table border=\"1\" class=\"dataframe\">\n",
              "  <thead>\n",
              "    <tr style=\"text-align: right;\">\n",
              "      <th></th>\n",
              "      <th>Users</th>\n",
              "      <th>Gender</th>\n",
              "      <th>Formal Shirts</th>\n",
              "      <th>Jackets</th>\n",
              "      <th>Casual shirts</th>\n",
              "      <th>Jeans</th>\n",
              "      <th>Skirts</th>\n",
              "      <th>Kurtis</th>\n",
              "      <th>Trousers</th>\n",
              "      <th>Tops</th>\n",
              "    </tr>\n",
              "  </thead>\n",
              "  <tbody>\n",
              "    <tr>\n",
              "      <th>0</th>\n",
              "      <td>Neha Das</td>\n",
              "      <td>Female</td>\n",
              "      <td>0.0</td>\n",
              "      <td>0.0</td>\n",
              "      <td>0.0</td>\n",
              "      <td>0.0</td>\n",
              "      <td>0.0</td>\n",
              "      <td>1.0</td>\n",
              "      <td>0.0</td>\n",
              "      <td>1.0</td>\n",
              "    </tr>\n",
              "    <tr>\n",
              "      <th>1</th>\n",
              "      <td>Vinayak raj</td>\n",
              "      <td>Male</td>\n",
              "      <td>0.0</td>\n",
              "      <td>1.0</td>\n",
              "      <td>1.0</td>\n",
              "      <td>1.0</td>\n",
              "      <td>0.0</td>\n",
              "      <td>0.0</td>\n",
              "      <td>0.0</td>\n",
              "      <td>0.0</td>\n",
              "    </tr>\n",
              "    <tr>\n",
              "      <th>2</th>\n",
              "      <td>Prapti parasar</td>\n",
              "      <td>Female</td>\n",
              "      <td>0.0</td>\n",
              "      <td>0.0</td>\n",
              "      <td>0.0</td>\n",
              "      <td>0.0</td>\n",
              "      <td>0.0</td>\n",
              "      <td>0.0</td>\n",
              "      <td>1.0</td>\n",
              "      <td>0.0</td>\n",
              "    </tr>\n",
              "    <tr>\n",
              "      <th>3</th>\n",
              "      <td>Tarpan Bhattacharya</td>\n",
              "      <td>Male</td>\n",
              "      <td>1.0</td>\n",
              "      <td>0.0</td>\n",
              "      <td>0.0</td>\n",
              "      <td>1.0</td>\n",
              "      <td>0.0</td>\n",
              "      <td>0.0</td>\n",
              "      <td>0.0</td>\n",
              "      <td>0.0</td>\n",
              "    </tr>\n",
              "    <tr>\n",
              "      <th>4</th>\n",
              "      <td>Ryan</td>\n",
              "      <td>Male</td>\n",
              "      <td>0.0</td>\n",
              "      <td>0.0</td>\n",
              "      <td>1.0</td>\n",
              "      <td>1.0</td>\n",
              "      <td>0.0</td>\n",
              "      <td>0.0</td>\n",
              "      <td>0.0</td>\n",
              "      <td>0.0</td>\n",
              "    </tr>\n",
              "    <tr>\n",
              "      <th>5</th>\n",
              "      <td>Aritra Mondal</td>\n",
              "      <td>Male</td>\n",
              "      <td>0.0</td>\n",
              "      <td>0.0</td>\n",
              "      <td>1.0</td>\n",
              "      <td>1.0</td>\n",
              "      <td>0.0</td>\n",
              "      <td>0.0</td>\n",
              "      <td>0.0</td>\n",
              "      <td>0.0</td>\n",
              "    </tr>\n",
              "    <tr>\n",
              "      <th>6</th>\n",
              "      <td>Sparsh Mehta</td>\n",
              "      <td>Male</td>\n",
              "      <td>1.0</td>\n",
              "      <td>1.0</td>\n",
              "      <td>0.0</td>\n",
              "      <td>1.0</td>\n",
              "      <td>0.0</td>\n",
              "      <td>1.0</td>\n",
              "      <td>1.0</td>\n",
              "      <td>1.0</td>\n",
              "    </tr>\n",
              "    <tr>\n",
              "      <th>7</th>\n",
              "      <td>Rishabh Anand</td>\n",
              "      <td>Male</td>\n",
              "      <td>0.0</td>\n",
              "      <td>0.0</td>\n",
              "      <td>0.0</td>\n",
              "      <td>1.0</td>\n",
              "      <td>0.0</td>\n",
              "      <td>0.0</td>\n",
              "      <td>0.0</td>\n",
              "      <td>0.0</td>\n",
              "    </tr>\n",
              "    <tr>\n",
              "      <th>8</th>\n",
              "      <td>Tarishi Jain</td>\n",
              "      <td>Female</td>\n",
              "      <td>0.0</td>\n",
              "      <td>0.0</td>\n",
              "      <td>0.0</td>\n",
              "      <td>0.0</td>\n",
              "      <td>0.0</td>\n",
              "      <td>0.0</td>\n",
              "      <td>1.0</td>\n",
              "      <td>1.0</td>\n",
              "    </tr>\n",
              "    <tr>\n",
              "      <th>9</th>\n",
              "      <td>Prerna Bhendarkar</td>\n",
              "      <td>Female</td>\n",
              "      <td>0.0</td>\n",
              "      <td>0.0</td>\n",
              "      <td>0.0</td>\n",
              "      <td>0.0</td>\n",
              "      <td>1.0</td>\n",
              "      <td>1.0</td>\n",
              "      <td>1.0</td>\n",
              "      <td>1.0</td>\n",
              "    </tr>\n",
              "    <tr>\n",
              "      <th>10</th>\n",
              "      <td>Sakshat Jain</td>\n",
              "      <td>Male</td>\n",
              "      <td>0.0</td>\n",
              "      <td>0.0</td>\n",
              "      <td>1.0</td>\n",
              "      <td>1.0</td>\n",
              "      <td>0.0</td>\n",
              "      <td>0.0</td>\n",
              "      <td>0.0</td>\n",
              "      <td>0.0</td>\n",
              "    </tr>\n",
              "    <tr>\n",
              "      <th>11</th>\n",
              "      <td>Nayan Jyoti Bordoloi</td>\n",
              "      <td>Male</td>\n",
              "      <td>1.0</td>\n",
              "      <td>0.0</td>\n",
              "      <td>0.0</td>\n",
              "      <td>0.0</td>\n",
              "      <td>0.0</td>\n",
              "      <td>0.0</td>\n",
              "      <td>0.0</td>\n",
              "      <td>0.0</td>\n",
              "    </tr>\n",
              "    <tr>\n",
              "      <th>12</th>\n",
              "      <td>Monalisa Nath</td>\n",
              "      <td>Female</td>\n",
              "      <td>0.0</td>\n",
              "      <td>0.0</td>\n",
              "      <td>0.0</td>\n",
              "      <td>0.0</td>\n",
              "      <td>1.0</td>\n",
              "      <td>0.0</td>\n",
              "      <td>1.0</td>\n",
              "      <td>1.0</td>\n",
              "    </tr>\n",
              "    <tr>\n",
              "      <th>13</th>\n",
              "      <td>Ramchandra Nath</td>\n",
              "      <td>Male</td>\n",
              "      <td>1.0</td>\n",
              "      <td>1.0</td>\n",
              "      <td>0.0</td>\n",
              "      <td>1.0</td>\n",
              "      <td>0.0</td>\n",
              "      <td>0.0</td>\n",
              "      <td>0.0</td>\n",
              "      <td>0.0</td>\n",
              "    </tr>\n",
              "    <tr>\n",
              "      <th>14</th>\n",
              "      <td>Jugami Brahma</td>\n",
              "      <td>Female</td>\n",
              "      <td>0.0</td>\n",
              "      <td>0.0</td>\n",
              "      <td>1.0</td>\n",
              "      <td>1.0</td>\n",
              "      <td>0.0</td>\n",
              "      <td>1.0</td>\n",
              "      <td>1.0</td>\n",
              "      <td>1.0</td>\n",
              "    </tr>\n",
              "  </tbody>\n",
              "</table>\n",
              "</div>"
            ],
            "text/plain": [
              "                   Users  Gender  Formal Shirts  ...  Kurtis  Trousers  Tops\n",
              "0               Neha Das  Female            0.0  ...     1.0       0.0   1.0\n",
              "1            Vinayak raj    Male            0.0  ...     0.0       0.0   0.0\n",
              "2         Prapti parasar  Female            0.0  ...     0.0       1.0   0.0\n",
              "3    Tarpan Bhattacharya    Male            1.0  ...     0.0       0.0   0.0\n",
              "4                   Ryan    Male            0.0  ...     0.0       0.0   0.0\n",
              "5          Aritra Mondal    Male            0.0  ...     0.0       0.0   0.0\n",
              "6          Sparsh Mehta     Male            1.0  ...     1.0       1.0   1.0\n",
              "7          Rishabh Anand    Male            0.0  ...     0.0       0.0   0.0\n",
              "8           Tarishi Jain  Female            0.0  ...     0.0       1.0   1.0\n",
              "9      Prerna Bhendarkar  Female            0.0  ...     1.0       1.0   1.0\n",
              "10          Sakshat Jain    Male            0.0  ...     0.0       0.0   0.0\n",
              "11  Nayan Jyoti Bordoloi    Male            1.0  ...     0.0       0.0   0.0\n",
              "12         Monalisa Nath  Female            0.0  ...     0.0       1.0   1.0\n",
              "13       Ramchandra Nath    Male            1.0  ...     0.0       0.0   0.0\n",
              "14         Jugami Brahma  Female            0.0  ...     1.0       1.0   1.0\n",
              "\n",
              "[15 rows x 10 columns]"
            ]
          },
          "metadata": {
            "tags": []
          },
          "execution_count": 192
        }
      ]
    },
    {
      "cell_type": "code",
      "metadata": {
        "id": "d-5FjkBoGoxI"
      },
      "source": [
        "#Function to find relationship(similarity) between two users using pearson correlation coefficient.\n",
        "def weight_factor(x, y): \n",
        "    t1, t2, t3 = 0, 0, 0 \n",
        "    for i, j in zip(x, y):\n",
        "        t1+=i*j\n",
        "        t2+=i*i\n",
        "        t3+=j*j\n",
        "    return t1/(np.sqrt(t2) * np.sqrt(t3))"
      ],
      "execution_count": 193,
      "outputs": []
    },
    {
      "cell_type": "code",
      "metadata": {
        "colab": {
          "base_uri": "https://localhost:8080/"
        },
        "id": "3th4L7DVInMo",
        "outputId": "f456e67b-acb0-493d-f2da-abfa727b4f0c"
      },
      "source": [
        "#First one is active user (Neha Das),we find similarity with other users\n",
        "import numpy as np\n",
        "x = data.iloc[0,2:]\n",
        "similarity = np.array([(data.iloc[i,0],weight_factor(x,data.iloc[i, 2:])) for i in range(1,data.shape[0],1)])\n",
        "similarity"
      ],
      "execution_count": 194,
      "outputs": [
        {
          "output_type": "execute_result",
          "data": {
            "text/plain": [
              "array([['Vinayak raj', '0.0'],\n",
              "       ['Prapti parasar', '0.0'],\n",
              "       ['Tarpan Bhattacharya', '0.0'],\n",
              "       ['Ryan', '0.0'],\n",
              "       ['Aritra Mondal', '0.0'],\n",
              "       ['Sparsh Mehta ', '0.5773502691896258'],\n",
              "       ['Rishabh Anand', '0.0'],\n",
              "       ['Tarishi Jain', '0.4999999999999999'],\n",
              "       ['Prerna Bhendarkar', '0.7071067811865475'],\n",
              "       ['Sakshat Jain', '0.0'],\n",
              "       ['Nayan Jyoti Bordoloi', '0.0'],\n",
              "       ['Monalisa Nath', '0.40824829046386296'],\n",
              "       ['Ramchandra Nath', '0.0'],\n",
              "       ['Jugami Brahma', '0.6324555320336759'],\n",
              "       ['Chinmayee Ray', '0.0'],\n",
              "       ['Rituparna Rajbongshi ', '0.7071067811865475'],\n",
              "       ['Maria Basumatary', '0.7071067811865475'],\n",
              "       ['Jayashree Devi', '0.4999999999999999'],\n",
              "       ['Rupshikha Devi ', '0.7071067811865475'],\n",
              "       ['Puja Bhendarkar', '0.40824829046386296'],\n",
              "       ['Mandira Sharma', '0.4999999999999999'],\n",
              "       ['Baby Devi Nath', '0.7071067811865475'],\n",
              "       ['Bhabna Borah ', '0.8164965809277259'],\n",
              "       ['Munu chamuah', '0.4999999999999999'],\n",
              "       ['P. Choudhury ', '0.4999999999999999'],\n",
              "       ['Kasturi Talukdar ', '0.5345224838248487'],\n",
              "       ['Amartya Choudhury', '0.0'],\n",
              "       ['Dr. PURNANANDA KHAUND ', '0.0'],\n",
              "       ['Atindra Das', '0.0'],\n",
              "       ['Nivedita Basumatary', '0.7071067811865475'],\n",
              "       ['Chandni brahma ', '0.0'],\n",
              "       ['Kirtika Changkakoti ', '0.4999999999999999'],\n",
              "       ['Himashree Barman ', '0.9999999999999998'],\n",
              "       ['Sanghamitra Dutt', '0.4999999999999999'],\n",
              "       ['Dr Bijit Nath', '0.4999999999999999']], dtype='<U22')"
            ]
          },
          "metadata": {
            "tags": []
          },
          "execution_count": 194
        }
      ]
    },
    {
      "cell_type": "markdown",
      "metadata": {
        "id": "cG2k2rVBSbfS"
      },
      "source": [
        "**Sorting neighbours based on similarity weights**"
      ]
    },
    {
      "cell_type": "code",
      "metadata": {
        "colab": {
          "base_uri": "https://localhost:8080/"
        },
        "id": "FbaXix7KNQPV",
        "outputId": "5d711a77-b1db-446c-cc53-7c1432de8b7e"
      },
      "source": [
        "ind = np.argsort( similarity[:,1] )\n",
        "similarity = similarity[ind]\n",
        "similarity"
      ],
      "execution_count": 195,
      "outputs": [
        {
          "output_type": "execute_result",
          "data": {
            "text/plain": [
              "array([['Vinayak raj', '0.0'],\n",
              "       ['Amartya Choudhury', '0.0'],\n",
              "       ['Chinmayee Ray', '0.0'],\n",
              "       ['Dr. PURNANANDA KHAUND ', '0.0'],\n",
              "       ['Ramchandra Nath', '0.0'],\n",
              "       ['Nayan Jyoti Bordoloi', '0.0'],\n",
              "       ['Atindra Das', '0.0'],\n",
              "       ['Sakshat Jain', '0.0'],\n",
              "       ['Rishabh Anand', '0.0'],\n",
              "       ['Aritra Mondal', '0.0'],\n",
              "       ['Ryan', '0.0'],\n",
              "       ['Tarpan Bhattacharya', '0.0'],\n",
              "       ['Prapti parasar', '0.0'],\n",
              "       ['Chandni brahma ', '0.0'],\n",
              "       ['Monalisa Nath', '0.40824829046386296'],\n",
              "       ['Puja Bhendarkar', '0.40824829046386296'],\n",
              "       ['Mandira Sharma', '0.4999999999999999'],\n",
              "       ['Kirtika Changkakoti ', '0.4999999999999999'],\n",
              "       ['P. Choudhury ', '0.4999999999999999'],\n",
              "       ['Munu chamuah', '0.4999999999999999'],\n",
              "       ['Jayashree Devi', '0.4999999999999999'],\n",
              "       ['Sanghamitra Dutt', '0.4999999999999999'],\n",
              "       ['Tarishi Jain', '0.4999999999999999'],\n",
              "       ['Dr Bijit Nath', '0.4999999999999999'],\n",
              "       ['Kasturi Talukdar ', '0.5345224838248487'],\n",
              "       ['Sparsh Mehta ', '0.5773502691896258'],\n",
              "       ['Jugami Brahma', '0.6324555320336759'],\n",
              "       ['Baby Devi Nath', '0.7071067811865475'],\n",
              "       ['Maria Basumatary', '0.7071067811865475'],\n",
              "       ['Rituparna Rajbongshi ', '0.7071067811865475'],\n",
              "       ['Prerna Bhendarkar', '0.7071067811865475'],\n",
              "       ['Nivedita Basumatary', '0.7071067811865475'],\n",
              "       ['Rupshikha Devi ', '0.7071067811865475'],\n",
              "       ['Bhabna Borah ', '0.8164965809277259'],\n",
              "       ['Himashree Barman ', '0.9999999999999998']], dtype='<U22')"
            ]
          },
          "metadata": {
            "tags": []
          },
          "execution_count": 195
        }
      ]
    },
    {
      "cell_type": "markdown",
      "metadata": {
        "id": "6So_h2OUYD6k"
      },
      "source": [
        "**Neigbours based on threshold(Similarity matrix)**"
      ]
    },
    {
      "cell_type": "code",
      "metadata": {
        "id": "e7Dgm-ngcA07"
      },
      "source": [
        "#Sorting the weights in descending order giving us the top neighbours first.\n",
        "index= np.argsort( similarity[:,1] )\n",
        "index=index[::-1]\n",
        "similarity=similarity[index]"
      ],
      "execution_count": 196,
      "outputs": []
    },
    {
      "cell_type": "code",
      "metadata": {
        "id": "jgFCXsNiTIpf"
      },
      "source": [
        "#We will be taking neighbours having similarity value(weights) more than 0.5\n",
        "neighbours = similarity[similarity[:,1].astype(float) > 0.5] "
      ],
      "execution_count": 197,
      "outputs": []
    },
    {
      "cell_type": "code",
      "metadata": {
        "colab": {
          "base_uri": "https://localhost:8080/"
        },
        "id": "Q8Zhwc3BYH0f",
        "outputId": "aeab7d0b-ff47-47ac-c1da-540773189640"
      },
      "source": [
        "#Printing the top 10 neighbours of any user( taking here Neha Das)\n",
        "print('Suggested friends for Neha Das are(based on your choices):')\n",
        "if (len(neighbours)>10):\n",
        "   for i in range(0,10,1):  #Top 10 neighbours\n",
        "       print(neighbours[i][0])   \n",
        "else:\n",
        "    for i in range(len(neighbours)):\n",
        "       print(neighbours[i][0])"
      ],
      "execution_count": 198,
      "outputs": [
        {
          "output_type": "stream",
          "text": [
            "Suggested friends for Neha Das are(based on your choices):\n",
            "Himashree Barman \n",
            "Bhabna Borah \n",
            "Rupshikha Devi \n",
            "Nivedita Basumatary\n",
            "Prerna Bhendarkar\n",
            "Rituparna Rajbongshi \n",
            "Maria Basumatary\n",
            "Baby Devi Nath\n",
            "Jugami Brahma\n",
            "Sparsh Mehta \n"
          ],
          "name": "stdout"
        }
      ]
    },
    {
      "cell_type": "code",
      "metadata": {
        "id": "wcCVXI5PY3zI"
      },
      "source": [
        "# Function to find top neighbours with threshold 0.6\n",
        "def Top_Neighbours(user):\n",
        "    list=[]\n",
        "    x = data.iloc[data.loc[data.Users == user].index[0],2:]\n",
        "    similar = np.array([(data.iloc[i,0],weight_factor(x,data.iloc[i, 2:])) for i in range(0,data.shape[0],1)])\n",
        "    index= np.argsort( similar[:,1] )\n",
        "    index=index[::-1]\n",
        "    similar=similar[index] \n",
        "    neighbours = similar[similar[:,1].astype(float) > 0.6]\n",
        "    if (len(neighbours)>10):\n",
        "       for i in range(0,10,1):  #Top 10 neighbours\n",
        "           list.append(neighbours[i][0])\n",
        "    else:\n",
        "       for i in range(len(neighbours)):\n",
        "            list.append(neighbours[i][0])\n",
        "    if user in list: #Remove the user of which we are asked to find neighbours,each user is always strongly correlated with itself and its of no use to us.\n",
        "       list.remove(user)\n",
        "    return list"
      ],
      "execution_count": 199,
      "outputs": []
    },
    {
      "cell_type": "code",
      "metadata": {
        "id": "-HsJ3UX-btWj"
      },
      "source": [
        "#Function to find the items recommended to a user based on the similarity values(its based on fact that only items not chosen by the user but chosen by other similar users will be shown)\n",
        "def recommended_items(user):\n",
        "    list=[]\n",
        "    x = data.iloc[data.loc[data.Users == user].index[0],2:]\n",
        "    similar = np.array([(data.iloc[i,0],weight_factor(x,data.iloc[i, 2:])) for i in range(0,data.shape[0],1)])\n",
        "    index= np.argsort( similar[:,1] )\n",
        "    index=index[::-1]\n",
        "    similar=similar[index] \n",
        "    neighbours = similar[similar[:,1].astype(float) > 0.6]  #Taking threshold as 0.6\n",
        "    for i in range(0,len(neighbours),1):\n",
        "        for j in range(2,len(data.columns),1):\n",
        "            if data.iloc[data.loc[data.Users == neighbours[i][0]].index[0],j]==1 and data.iloc[data.loc[data.Users == user].index[0],j]==0:\n",
        "               list.append(data.columns[j])\n",
        "    return list"
      ],
      "execution_count": 200,
      "outputs": []
    },
    {
      "cell_type": "code",
      "metadata": {
        "colab": {
          "base_uri": "https://localhost:8080/"
        },
        "id": "Sg5x40NNHZ0P",
        "outputId": "07a1cc57-6083-4870-d109-9ca875e2db4a"
      },
      "source": [
        "#Displaying the top neighbours and  recommended items to a user.\n",
        "user = input(\"Enter the user name: \")\n",
        "predicted_list=[]\n",
        "Top_neighbours=[]\n",
        "Top_neighbours=Top_Neighbours(user)\n",
        "predicted_list= recommended_items(user)\n",
        "recommended_list=np.unique(np.array(predicted_list))\n",
        "print(\" \")\n",
        "print(\"Top users similar to this user are:\")\n",
        "print(\" \")\n",
        "for i in range(0,len(Top_neighbours),1):\n",
        "    print(Top_neighbours[i])\n",
        "print(\" \")\n",
        "print(\"Users similar to this user liked these products too:\")\n",
        "print(\" \")\n",
        "for i in range(0,len(recommended_list),1):\n",
        "    print(recommended_list[i])"
      ],
      "execution_count": 201,
      "outputs": [
        {
          "output_type": "stream",
          "text": [
            "Enter the user name: P. Choudhury \n",
            " \n",
            "Top users similar to this user are:\n",
            " \n",
            "Tarishi Jain\n",
            "Mandira Sharma\n",
            "Bhabna Borah \n",
            "Monalisa Nath\n",
            "Nivedita Basumatary\n",
            "Prapti parasar\n",
            "Prerna Bhendarkar\n",
            "Chandni brahma \n",
            "Chinmayee Ray\n",
            " \n",
            "Users similar to this user liked these products too:\n",
            " \n",
            "Casual shirts\n",
            "Jeans\n",
            "Kurtis\n",
            "Skirts\n"
          ],
          "name": "stdout"
        }
      ]
    },
    {
      "cell_type": "markdown",
      "metadata": {
        "id": "NRueUxu5tgbB"
      },
      "source": [
        "We can develop an app which will have records of all the users and on showing the top users we can easily click the user name and know more about that person and can even send connection request for more conversation. Of the whole project idea ,we have implemented the recommendation engine which plays an integral part in our project. \n",
        "\n",
        "**NOTE: We can only know about the top similar users and recommended items for a particular user if and only if we have that particular user's data on our database.**"
      ]
    }
  ]
}